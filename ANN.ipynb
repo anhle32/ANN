{
 "cells": [
  {
   "cell_type": "code",
   "execution_count": 1,
   "id": "1665bc99",
   "metadata": {},
   "outputs": [],
   "source": [
    "import pandas as pd\n",
    "import numpy as np\n",
    "import matplotlib.pyplot as plt\n",
    "import seaborn as sns\n",
    "from sklearn import linear_model\n",
    "from sklearn.model_selection import train_test_split\n",
    "from sklearn.metrics import mean_squared_error, mean_absolute_error"
   ]
  },
  {
   "cell_type": "code",
   "execution_count": 2,
   "id": "1923960a",
   "metadata": {},
   "outputs": [],
   "source": [
    "import warnings\n",
    "warnings.filterwarnings('ignore')\n",
    "warnings.simplefilter('ignore')"
   ]
  },
  {
   "cell_type": "code",
   "execution_count": 42,
   "id": "fb8667d1",
   "metadata": {},
   "outputs": [
    {
     "data": {
      "text/html": [
       "<div>\n",
       "<style scoped>\n",
       "    .dataframe tbody tr th:only-of-type {\n",
       "        vertical-align: middle;\n",
       "    }\n",
       "\n",
       "    .dataframe tbody tr th {\n",
       "        vertical-align: top;\n",
       "    }\n",
       "\n",
       "    .dataframe thead th {\n",
       "        text-align: right;\n",
       "    }\n",
       "</style>\n",
       "<table border=\"1\" class=\"dataframe\">\n",
       "  <thead>\n",
       "    <tr style=\"text-align: right;\">\n",
       "      <th></th>\n",
       "      <th>Unnamed: 0</th>\n",
       "      <th>Năm</th>\n",
       "      <th>Quý</th>\n",
       "      <th>Ggrdp</th>\n",
       "      <th>Gnlts</th>\n",
       "      <th>Gcnxd</th>\n",
       "      <th>Gtmdv</th>\n",
       "      <th>Gtsp</th>\n",
       "    </tr>\n",
       "  </thead>\n",
       "  <tbody>\n",
       "    <tr>\n",
       "      <th>0</th>\n",
       "      <td>3T/2017</td>\n",
       "      <td>2017.0</td>\n",
       "      <td>3T</td>\n",
       "      <td>7.46</td>\n",
       "      <td>5.63</td>\n",
       "      <td>6.67</td>\n",
       "      <td>7.95</td>\n",
       "      <td>7.10</td>\n",
       "    </tr>\n",
       "    <tr>\n",
       "      <th>1</th>\n",
       "      <td>6T/2017</td>\n",
       "      <td>NaN</td>\n",
       "      <td>6T</td>\n",
       "      <td>7.76</td>\n",
       "      <td>5.90</td>\n",
       "      <td>7.20</td>\n",
       "      <td>7.40</td>\n",
       "      <td>9.80</td>\n",
       "    </tr>\n",
       "    <tr>\n",
       "      <th>2</th>\n",
       "      <td>9T/2017</td>\n",
       "      <td>NaN</td>\n",
       "      <td>9T</td>\n",
       "      <td>7.97</td>\n",
       "      <td>6.20</td>\n",
       "      <td>7.70</td>\n",
       "      <td>7.70</td>\n",
       "      <td>9.20</td>\n",
       "    </tr>\n",
       "    <tr>\n",
       "      <th>3</th>\n",
       "      <td>12T/2017</td>\n",
       "      <td>NaN</td>\n",
       "      <td>12T</td>\n",
       "      <td>8.25</td>\n",
       "      <td>6.25</td>\n",
       "      <td>7.84</td>\n",
       "      <td>8.23</td>\n",
       "      <td>9.05</td>\n",
       "    </tr>\n",
       "    <tr>\n",
       "      <th>4</th>\n",
       "      <td>3T/2018</td>\n",
       "      <td>2018.0</td>\n",
       "      <td>3T</td>\n",
       "      <td>7.64</td>\n",
       "      <td>5.83</td>\n",
       "      <td>7.25</td>\n",
       "      <td>7.98</td>\n",
       "      <td>7.09</td>\n",
       "    </tr>\n",
       "  </tbody>\n",
       "</table>\n",
       "</div>"
      ],
      "text/plain": [
       "  Unnamed: 0     Năm  Quý  Ggrdp  Gnlts  Gcnxd  Gtmdv  Gtsp\n",
       "0    3T/2017  2017.0   3T   7.46   5.63   6.67   7.95  7.10\n",
       "1    6T/2017     NaN   6T   7.76   5.90   7.20   7.40  9.80\n",
       "2    9T/2017     NaN   9T   7.97   6.20   7.70   7.70  9.20\n",
       "3   12T/2017     NaN  12T   8.25   6.25   7.84   8.23  9.05\n",
       "4    3T/2018  2018.0   3T   7.64   5.83   7.25   7.98  7.09"
      ]
     },
     "execution_count": 42,
     "metadata": {},
     "output_type": "execute_result"
    }
   ],
   "source": [
    "df=pd.read_excel('data.xlsx')\n",
    "df.head()"
   ]
  },
  {
   "cell_type": "code",
   "execution_count": 43,
   "id": "8a3ad445",
   "metadata": {},
   "outputs": [],
   "source": [
    "quarters = []\n",
    "for year in range(2017, 2024):\n",
    "    for quarter in range(1, 5):\n",
    "        if year == 2023 and quarter > 2:  # Dừng lại tại quý 2/2023\n",
    "            break\n",
    "        quarters.append(f\"Q {quarter}/{year}\")\n",
    "\n",
    "# Thêm cột quý vào DataFrame\n",
    "df['Quarter'] = quarters"
   ]
  },
  {
   "cell_type": "code",
   "execution_count": 44,
   "id": "01d44f51",
   "metadata": {},
   "outputs": [],
   "source": [
    "df = df.set_index('Quarter')"
   ]
  },
  {
   "cell_type": "code",
   "execution_count": 45,
   "id": "59d951f9",
   "metadata": {},
   "outputs": [
    {
     "data": {
      "text/plain": [
       "Index(['Unnamed: 0', 'Năm', 'Quý', 'Ggrdp', 'Gnlts', 'Gcnxd', 'Gtmdv', 'Gtsp'], dtype='object')"
      ]
     },
     "execution_count": 45,
     "metadata": {},
     "output_type": "execute_result"
    }
   ],
   "source": [
    "df.columns"
   ]
  },
  {
   "cell_type": "code",
   "execution_count": 46,
   "id": "6069408f",
   "metadata": {},
   "outputs": [],
   "source": [
    "df = df.rename(columns={'Gnlts': 'gAFFS', 'Gcnxd': 'gINCS', 'Gtmdv': 'gTRSS','Gtsp':'gPTX','Ggrdp':'gGRDP'})"
   ]
  },
  {
   "cell_type": "code",
   "execution_count": 47,
   "id": "8a64ccc1",
   "metadata": {},
   "outputs": [
    {
     "data": {
      "text/plain": [
       "<Axes: xlabel='Quarter'>"
      ]
     },
     "execution_count": 47,
     "metadata": {},
     "output_type": "execute_result"
    },
    {
     "data": {
      "image/png": "[encoded data removed]",
      "text/plain": [
       "<Figure size 1200x500 with 1 Axes>"
      ]
     },
     "metadata": {},
     "output_type": "display_data"
    }
   ],
   "source": [
    "df['gGRDP'].plot(figsize=(12,5),legend=True)\n",
    "df['gAFFS'].plot(legend=True)\n",
    "df['gINCS'].plot(legend=True)\n",
    "df['gTRSS'].plot(legend=True)\n",
    "df['gPTX'].plot(legend=True)"
   ]
  },
  {
   "cell_type": "code",
   "execution_count": 48,
   "id": "5ed44528-439b-4d94-9e6b-c69468007932",
   "metadata": {},
   "outputs": [
    {
     "data": {
      "text/plain": [
       "Index(['Unnamed: 0', 'Năm', 'Quý', 'gGRDP', 'gAFFS', 'gINCS', 'gTRSS', 'gPTX'], dtype='object')"
      ]
     },
     "execution_count": 48,
     "metadata": {},
     "output_type": "execute_result"
    }
   ],
   "source": [
    "df.columns"
   ]
  },
  {
   "cell_type": "code",
   "execution_count": 49,
   "id": "a641e304",
   "metadata": {},
   "outputs": [],
   "source": [
    "columns_to_shift = df.columns.difference(['Quarter'])"
   ]
  },
  {
   "cell_type": "code",
   "execution_count": 50,
   "id": "385c3533",
   "metadata": {},
   "outputs": [],
   "source": [
    "for col in columns_to_shift:\n",
    "    df[f'{col}_lag1'] = df[col].shift(1)"
   ]
  },
  {
   "cell_type": "code",
   "execution_count": 51,
   "id": "b7fddd98",
   "metadata": {},
   "outputs": [
    {
     "data": {
      "text/html": [
       "<div>\n",
       "<style scoped>\n",
       "    .dataframe tbody tr th:only-of-type {\n",
       "        vertical-align: middle;\n",
       "    }\n",
       "\n",
       "    .dataframe tbody tr th {\n",
       "        vertical-align: top;\n",
       "    }\n",
       "\n",
       "    .dataframe thead th {\n",
       "        text-align: right;\n",
       "    }\n",
       "</style>\n",
       "<table border=\"1\" class=\"dataframe\">\n",
       "  <thead>\n",
       "    <tr style=\"text-align: right;\">\n",
       "      <th></th>\n",
       "      <th>Unnamed: 0</th>\n",
       "      <th>Năm</th>\n",
       "      <th>Quý</th>\n",
       "      <th>gGRDP</th>\n",
       "      <th>gAFFS</th>\n",
       "      <th>gINCS</th>\n",
       "      <th>gTRSS</th>\n",
       "      <th>gPTX</th>\n",
       "      <th>Năm_lag1</th>\n",
       "      <th>Quý_lag1</th>\n",
       "      <th>Unnamed: 0_lag1</th>\n",
       "      <th>gAFFS_lag1</th>\n",
       "      <th>gGRDP_lag1</th>\n",
       "      <th>gINCS_lag1</th>\n",
       "      <th>gPTX_lag1</th>\n",
       "      <th>gTRSS_lag1</th>\n",
       "    </tr>\n",
       "    <tr>\n",
       "      <th>Quarter</th>\n",
       "      <th></th>\n",
       "      <th></th>\n",
       "      <th></th>\n",
       "      <th></th>\n",
       "      <th></th>\n",
       "      <th></th>\n",
       "      <th></th>\n",
       "      <th></th>\n",
       "      <th></th>\n",
       "      <th></th>\n",
       "      <th></th>\n",
       "      <th></th>\n",
       "      <th></th>\n",
       "      <th></th>\n",
       "      <th></th>\n",
       "      <th></th>\n",
       "    </tr>\n",
       "  </thead>\n",
       "  <tbody>\n",
       "    <tr>\n",
       "      <th>Q 1/2017</th>\n",
       "      <td>3T/2017</td>\n",
       "      <td>2017.0</td>\n",
       "      <td>3T</td>\n",
       "      <td>7.46</td>\n",
       "      <td>5.63</td>\n",
       "      <td>6.67</td>\n",
       "      <td>7.95</td>\n",
       "      <td>7.10</td>\n",
       "      <td>NaN</td>\n",
       "      <td>None</td>\n",
       "      <td>None</td>\n",
       "      <td>NaN</td>\n",
       "      <td>NaN</td>\n",
       "      <td>NaN</td>\n",
       "      <td>NaN</td>\n",
       "      <td>NaN</td>\n",
       "    </tr>\n",
       "    <tr>\n",
       "      <th>Q 2/2017</th>\n",
       "      <td>6T/2017</td>\n",
       "      <td>NaN</td>\n",
       "      <td>6T</td>\n",
       "      <td>7.76</td>\n",
       "      <td>5.90</td>\n",
       "      <td>7.20</td>\n",
       "      <td>7.40</td>\n",
       "      <td>9.80</td>\n",
       "      <td>2017.0</td>\n",
       "      <td>3T</td>\n",
       "      <td>3T/2017</td>\n",
       "      <td>5.63</td>\n",
       "      <td>7.46</td>\n",
       "      <td>6.67</td>\n",
       "      <td>7.10</td>\n",
       "      <td>7.95</td>\n",
       "    </tr>\n",
       "    <tr>\n",
       "      <th>Q 3/2017</th>\n",
       "      <td>9T/2017</td>\n",
       "      <td>NaN</td>\n",
       "      <td>9T</td>\n",
       "      <td>7.97</td>\n",
       "      <td>6.20</td>\n",
       "      <td>7.70</td>\n",
       "      <td>7.70</td>\n",
       "      <td>9.20</td>\n",
       "      <td>NaN</td>\n",
       "      <td>6T</td>\n",
       "      <td>6T/2017</td>\n",
       "      <td>5.90</td>\n",
       "      <td>7.76</td>\n",
       "      <td>7.20</td>\n",
       "      <td>9.80</td>\n",
       "      <td>7.40</td>\n",
       "    </tr>\n",
       "    <tr>\n",
       "      <th>Q 4/2017</th>\n",
       "      <td>12T/2017</td>\n",
       "      <td>NaN</td>\n",
       "      <td>12T</td>\n",
       "      <td>8.25</td>\n",
       "      <td>6.25</td>\n",
       "      <td>7.84</td>\n",
       "      <td>8.23</td>\n",
       "      <td>9.05</td>\n",
       "      <td>NaN</td>\n",
       "      <td>9T</td>\n",
       "      <td>9T/2017</td>\n",
       "      <td>6.20</td>\n",
       "      <td>7.97</td>\n",
       "      <td>7.70</td>\n",
       "      <td>9.20</td>\n",
       "      <td>7.70</td>\n",
       "    </tr>\n",
       "    <tr>\n",
       "      <th>Q 1/2018</th>\n",
       "      <td>3T/2018</td>\n",
       "      <td>2018.0</td>\n",
       "      <td>3T</td>\n",
       "      <td>7.64</td>\n",
       "      <td>5.83</td>\n",
       "      <td>7.25</td>\n",
       "      <td>7.98</td>\n",
       "      <td>7.09</td>\n",
       "      <td>NaN</td>\n",
       "      <td>12T</td>\n",
       "      <td>12T/2017</td>\n",
       "      <td>6.25</td>\n",
       "      <td>8.25</td>\n",
       "      <td>7.84</td>\n",
       "      <td>9.05</td>\n",
       "      <td>8.23</td>\n",
       "    </tr>\n",
       "  </tbody>\n",
       "</table>\n",
       "</div>"
      ],
      "text/plain": [
       "         Unnamed: 0     Năm  Quý  gGRDP  gAFFS  gINCS  gTRSS  gPTX  Năm_lag1  \\\n",
       "Quarter                                                                        \n",
       "Q 1/2017    3T/2017  2017.0   3T   7.46   5.63   6.67   7.95  7.10       NaN   \n",
       "Q 2/2017    6T/2017     NaN   6T   7.76   5.90   7.20   7.40  9.80    2017.0   \n",
       "Q 3/2017    9T/2017     NaN   9T   7.97   6.20   7.70   7.70  9.20       NaN   \n",
       "Q 4/2017   12T/2017     NaN  12T   8.25   6.25   7.84   8.23  9.05       NaN   \n",
       "Q 1/2018    3T/2018  2018.0   3T   7.64   5.83   7.25   7.98  7.09       NaN   \n",
       "\n",
       "         Quý_lag1 Unnamed: 0_lag1  gAFFS_lag1  gGRDP_lag1  gINCS_lag1  \\\n",
       "Quarter                                                                 \n",
       "Q 1/2017     None            None         NaN         NaN         NaN   \n",
       "Q 2/2017       3T         3T/2017        5.63        7.46        6.67   \n",
       "Q 3/2017       6T         6T/2017        5.90        7.76        7.20   \n",
       "Q 4/2017       9T         9T/2017        6.20        7.97        7.70   \n",
       "Q 1/2018      12T        12T/2017        6.25        8.25        7.84   \n",
       "\n",
       "          gPTX_lag1  gTRSS_lag1  \n",
       "Quarter                          \n",
       "Q 1/2017        NaN         NaN  \n",
       "Q 2/2017       7.10        7.95  \n",
       "Q 3/2017       9.80        7.40  \n",
       "Q 4/2017       9.20        7.70  \n",
       "Q 1/2018       9.05        8.23  "
      ]
     },
     "execution_count": 51,
     "metadata": {},
     "output_type": "execute_result"
    }
   ],
   "source": [
    "df.head()"
   ]
  },
  {
   "cell_type": "code",
   "execution_count": 52,
   "id": "6cb62729",
   "metadata": {},
   "outputs": [],
   "source": [
    "df_1=df[['gGRDP','gAFFS_lag1', 'gGRDP_lag1',\n",
    "       'gINCS_lag1', 'gPTX_lag1', 'gTRSS_lag1']]"
   ]
  },
  {
   "cell_type": "code",
   "execution_count": 53,
   "id": "05843a19",
   "metadata": {},
   "outputs": [],
   "source": [
    "df_1=df_1.dropna()"
   ]
  },
  {
   "cell_type": "code",
   "execution_count": 55,
   "id": "b85a887c",
   "metadata": {},
   "outputs": [
    {
     "data": {
      "text/plain": [
       "Index(['gGRDP', 'gAFFS_lag1', 'gGRDP_lag1', 'gINCS_lag1', 'gPTX_lag1',\n",
       "       'gTRSS_lag1'],\n",
       "      dtype='object')"
      ]
     },
     "execution_count": 55,
     "metadata": {},
     "output_type": "execute_result"
    }
   ],
   "source": [
    "df_1.columns"
   ]
  },
  {
   "cell_type": "code",
   "execution_count": 56,
   "id": "227220f3",
   "metadata": {},
   "outputs": [],
   "source": [
    "X=df_1[['gAFFS_lag1','gINCS_lag1', 'gPTX_lag1', 'gTRSS_lag1']]\n",
    "y=df_1['gGRDP']"
   ]
  },
  {
   "cell_type": "code",
   "execution_count": 57,
   "id": "ac56e6f6",
   "metadata": {},
   "outputs": [],
   "source": [
    "X_train, X_test, y_train, y_test = train_test_split(X, y, test_size=0.2, random_state= 12)"
   ]
  },
  {
   "cell_type": "code",
   "execution_count": 17,
   "id": "ab3c816a",
   "metadata": {},
   "outputs": [
    {
     "ename": "ImportError",
     "evalue": "cannot import name 'plot_confusion_matrix' from 'sklearn.metrics' (C:\\Users\\Windows\\AppData\\Local\\Programs\\Python\\Python311\\Lib\\site-packages\\sklearn\\metrics\\__init__.py)",
     "output_type": "error",
     "traceback": [
      "\u001b[1;31m---------------------------------------------------------------------------\u001b[0m",
      "\u001b[1;31mImportError\u001b[0m                               Traceback (most recent call last)",
      "Cell \u001b[1;32mIn[17], line 6\u001b[0m\n\u001b[0;32m      4\u001b[0m \u001b[38;5;28;01mfrom\u001b[39;00m \u001b[38;5;21;01msklearn\u001b[39;00m\u001b[38;5;21;01m.\u001b[39;00m\u001b[38;5;21;01mmodel_selection\u001b[39;00m \u001b[38;5;28;01mimport\u001b[39;00m GridSearchCV\n\u001b[0;32m      5\u001b[0m \u001b[38;5;28;01mfrom\u001b[39;00m \u001b[38;5;21;01msklearn\u001b[39;00m\u001b[38;5;21;01m.\u001b[39;00m\u001b[38;5;21;01mpreprocessing\u001b[39;00m \u001b[38;5;28;01mimport\u001b[39;00m StandardScaler\n\u001b[1;32m----> 6\u001b[0m \u001b[38;5;28;01mfrom\u001b[39;00m \u001b[38;5;21;01msklearn\u001b[39;00m\u001b[38;5;21;01m.\u001b[39;00m\u001b[38;5;21;01mmetrics\u001b[39;00m \u001b[38;5;28;01mimport\u001b[39;00m plot_confusion_matrix\n\u001b[0;32m      7\u001b[0m \u001b[38;5;28;01mimport\u001b[39;00m \u001b[38;5;21;01mmatplotlib\u001b[39;00m\u001b[38;5;21;01m.\u001b[39;00m\u001b[38;5;21;01mpyplot\u001b[39;00m \u001b[38;5;28;01mas\u001b[39;00m \u001b[38;5;21;01mplt\u001b[39;00m\n",
      "\u001b[1;31mImportError\u001b[0m: cannot import name 'plot_confusion_matrix' from 'sklearn.metrics' (C:\\Users\\Windows\\AppData\\Local\\Programs\\Python\\Python311\\Lib\\site-packages\\sklearn\\metrics\\__init__.py)"
     ]
    }
   ],
   "source": [
    "import VisualizeNN as VisNN\n",
    "from sklearn.neural_network import MLPRegressor\n",
    "from sklearn import metrics\n",
    "from sklearn.model_selection import GridSearchCV\n",
    "from sklearn.preprocessing import StandardScaler\n",
    "from sklearn.metrics import plot_confusion_matrix\n",
    "import matplotlib.pyplot as plt"
   ]
  },
  {
   "cell_type": "code",
   "execution_count": 58,
   "id": "b00e0d9e",
   "metadata": {},
   "outputs": [],
   "source": [
    "sc_X = StandardScaler()\n",
    "X_trainscaled=sc_X.fit_transform(X_train)\n",
    "X_testscaled=sc_X.transform(X_test)"
   ]
  },
  {
   "cell_type": "code",
   "execution_count": 59,
   "id": "acd55347",
   "metadata": {},
   "outputs": [
    {
     "data": {
      "text/plain": [
       "array([[ 0.62363897,  0.40422458,  0.70499512,  0.60862237],\n",
       "       [ 0.90927514,  0.36782845,  0.49851119,  0.70036626],\n",
       "       [-0.50983789, -1.30411904, -1.5633783 , -1.52114636],\n",
       "       [ 0.07050226,  2.66760927,  0.07669403,  0.87402432],\n",
       "       [ 0.81859699,  0.23589245,  0.50146096,  0.69053655],\n",
       "       [ 0.94101249,  0.15172639,  1.09141504,  0.77245074],\n",
       "       [-0.03831152,  1.43696493,  0.59290384,  0.82815238],\n",
       "       [-0.80000797, -2.10028451, -1.25660218, -1.23608501],\n",
       "       [-0.93149128, -0.75135273, -0.99407262, -0.33175244],\n",
       "       [ 0.99088547,  0.09940695,  1.12976205,  0.67743029],\n",
       "       [-0.32394769, -0.85371686, -1.28609988, -1.69480443],\n",
       "       [ 1.02262282,  0.34963038,  0.58995407,  0.47428311],\n",
       "       [-1.13098321, -0.06437567, -1.73446498, -0.61681379],\n",
       "       [ 0.10677352, -0.56937205, -0.74039236, -2.31735221],\n",
       "       [-1.66598429, -1.26089863, -1.49553358, -0.97395962],\n",
       "       [ 1.09969925,  0.5020392 ,  1.07666619,  0.78228044],\n",
       "       [ 1.07702971,  0.47019258,  1.12091274,  0.60862237],\n",
       "       [-1.95162046, -0.46700792,  0.49556142,  0.00573399],\n",
       "       [ 1.07702971,  0.51568775,  0.58995407,  0.70691939],\n",
       "       [-1.38488203,  0.16992446,  0.60175316,  0.96249164]])"
      ]
     },
     "execution_count": 59,
     "metadata": {},
     "output_type": "execute_result"
    }
   ],
   "source": [
    "X_trainscaled"
   ]
  },
  {
   "cell_type": "code",
   "execution_count": 62,
   "id": "0c845019",
   "metadata": {},
   "outputs": [
    {
     "name": "stderr",
     "output_type": "stream",
     "text": [
      "C:\\Users\\Windows\\AppData\\Local\\Programs\\Python\\Python311\\Lib\\site-packages\\sklearn\\neural_network\\_multilayer_perceptron.py:686: ConvergenceWarning: Stochastic Optimizer: Maximum iterations (1000) reached and the optimization hasn't converged yet.\n",
      "  warnings.warn(\n",
      "C:\\Users\\Windows\\AppData\\Local\\Programs\\Python\\Python311\\Lib\\site-packages\\sklearn\\neural_network\\_multilayer_perceptron.py:686: ConvergenceWarning: Stochastic Optimizer: Maximum iterations (1000) reached and the optimization hasn't converged yet.\n",
      "  warnings.warn(\n",
      "C:\\Users\\Windows\\AppData\\Local\\Programs\\Python\\Python311\\Lib\\site-packages\\sklearn\\neural_network\\_multilayer_perceptron.py:686: ConvergenceWarning: Stochastic Optimizer: Maximum iterations (1000) reached and the optimization hasn't converged yet.\n",
      "  warnings.warn(\n",
      "C:\\Users\\Windows\\AppData\\Local\\Programs\\Python\\Python311\\Lib\\site-packages\\sklearn\\neural_network\\_multilayer_perceptron.py:686: ConvergenceWarning: Stochastic Optimizer: Maximum iterations (1000) reached and the optimization hasn't converged yet.\n",
      "  warnings.warn(\n",
      "C:\\Users\\Windows\\AppData\\Local\\Programs\\Python\\Python311\\Lib\\site-packages\\sklearn\\neural_network\\_multilayer_perceptron.py:686: ConvergenceWarning: Stochastic Optimizer: Maximum iterations (1000) reached and the optimization hasn't converged yet.\n",
      "  warnings.warn(\n",
      "C:\\Users\\Windows\\AppData\\Local\\Programs\\Python\\Python311\\Lib\\site-packages\\sklearn\\neural_network\\_multilayer_perceptron.py:686: ConvergenceWarning: Stochastic Optimizer: Maximum iterations (1000) reached and the optimization hasn't converged yet.\n",
      "  warnings.warn(\n"
     ]
    }
   ],
   "source": [
    "list_i=[]\n",
    "list_RMSE=[]\n",
    "list_MSE=[]\n",
    "list_MAE=[]\n",
    "for i in range (1,7):\n",
    "    regr = MLPRegressor(hidden_layer_sizes=(i,),random_state=12, max_iter=1000).fit(X_trainscaled, y_train)\n",
    "    y_pred = regr.predict(X_testscaled)\n",
    "    RMSE=np.sqrt(metrics.mean_squared_error(y_test, y_pred))\n",
    "    MSE=mean_squared_error(y_test, y_pred)\n",
    "    MAE=mean_absolute_error(y_test, y_pred)\n",
    "    list_i.append(i)\n",
    "    list_RMSE.append(RMSE)\n",
    "    list_MSE.append(MSE)\n",
    "    list_MAE.append(MAE)"
   ]
  },
  {
   "cell_type": "code",
   "execution_count": 63,
   "id": "f1fc265e",
   "metadata": {},
   "outputs": [
    {
     "data": {
      "text/html": [
       "<div>\n",
       "<style scoped>\n",
       "    .dataframe tbody tr th:only-of-type {\n",
       "        vertical-align: middle;\n",
       "    }\n",
       "\n",
       "    .dataframe tbody tr th {\n",
       "        vertical-align: top;\n",
       "    }\n",
       "\n",
       "    .dataframe thead th {\n",
       "        text-align: right;\n",
       "    }\n",
       "</style>\n",
       "<table border=\"1\" class=\"dataframe\">\n",
       "  <thead>\n",
       "    <tr style=\"text-align: right;\">\n",
       "      <th></th>\n",
       "      <th>i</th>\n",
       "      <th>RMSE</th>\n",
       "      <th>MSE</th>\n",
       "      <th>MAE</th>\n",
       "    </tr>\n",
       "  </thead>\n",
       "  <tbody>\n",
       "    <tr>\n",
       "      <th>0</th>\n",
       "      <td>1</td>\n",
       "      <td>5.152963</td>\n",
       "      <td>26.553030</td>\n",
       "      <td>4.493987</td>\n",
       "    </tr>\n",
       "    <tr>\n",
       "      <th>1</th>\n",
       "      <td>2</td>\n",
       "      <td>3.501283</td>\n",
       "      <td>12.258981</td>\n",
       "      <td>2.219975</td>\n",
       "    </tr>\n",
       "    <tr>\n",
       "      <th>2</th>\n",
       "      <td>3</td>\n",
       "      <td>2.966691</td>\n",
       "      <td>8.801254</td>\n",
       "      <td>1.787449</td>\n",
       "    </tr>\n",
       "    <tr>\n",
       "      <th>3</th>\n",
       "      <td>4</td>\n",
       "      <td>3.263680</td>\n",
       "      <td>10.651605</td>\n",
       "      <td>2.480740</td>\n",
       "    </tr>\n",
       "    <tr>\n",
       "      <th>4</th>\n",
       "      <td>5</td>\n",
       "      <td>4.873619</td>\n",
       "      <td>23.752161</td>\n",
       "      <td>3.231330</td>\n",
       "    </tr>\n",
       "    <tr>\n",
       "      <th>5</th>\n",
       "      <td>6</td>\n",
       "      <td>4.421787</td>\n",
       "      <td>19.552197</td>\n",
       "      <td>2.965804</td>\n",
       "    </tr>\n",
       "  </tbody>\n",
       "</table>\n",
       "</div>"
      ],
      "text/plain": [
       "   i      RMSE        MSE       MAE\n",
       "0  1  5.152963  26.553030  4.493987\n",
       "1  2  3.501283  12.258981  2.219975\n",
       "2  3  2.966691   8.801254  1.787449\n",
       "3  4  3.263680  10.651605  2.480740\n",
       "4  5  4.873619  23.752161  3.231330\n",
       "5  6  4.421787  19.552197  2.965804"
      ]
     },
     "execution_count": 63,
     "metadata": {},
     "output_type": "execute_result"
    }
   ],
   "source": [
    "rm=pd.DataFrame({'i':list_i,'RMSE':list_RMSE,'MSE':list_MSE,'MAE':list_MAE})\n",
    "rm"
   ]
  },
  {
   "cell_type": "code",
   "execution_count": 64,
   "id": "c47315f8",
   "metadata": {},
   "outputs": [
    {
     "data": {
      "text/html": [
       "<div>\n",
       "<style scoped>\n",
       "    .dataframe tbody tr th:only-of-type {\n",
       "        vertical-align: middle;\n",
       "    }\n",
       "\n",
       "    .dataframe tbody tr th {\n",
       "        vertical-align: top;\n",
       "    }\n",
       "\n",
       "    .dataframe thead th {\n",
       "        text-align: right;\n",
       "    }\n",
       "</style>\n",
       "<table border=\"1\" class=\"dataframe\">\n",
       "  <thead>\n",
       "    <tr style=\"text-align: right;\">\n",
       "      <th></th>\n",
       "      <th>RMSE</th>\n",
       "      <th>MSE</th>\n",
       "      <th>MAE</th>\n",
       "    </tr>\n",
       "    <tr>\n",
       "      <th>i</th>\n",
       "      <th></th>\n",
       "      <th></th>\n",
       "      <th></th>\n",
       "    </tr>\n",
       "  </thead>\n",
       "  <tbody>\n",
       "    <tr>\n",
       "      <th>1</th>\n",
       "      <td>5.152963</td>\n",
       "      <td>26.553030</td>\n",
       "      <td>4.493987</td>\n",
       "    </tr>\n",
       "    <tr>\n",
       "      <th>2</th>\n",
       "      <td>3.501283</td>\n",
       "      <td>12.258981</td>\n",
       "      <td>2.219975</td>\n",
       "    </tr>\n",
       "    <tr>\n",
       "      <th>3</th>\n",
       "      <td>2.966691</td>\n",
       "      <td>8.801254</td>\n",
       "      <td>1.787449</td>\n",
       "    </tr>\n",
       "    <tr>\n",
       "      <th>4</th>\n",
       "      <td>3.263680</td>\n",
       "      <td>10.651605</td>\n",
       "      <td>2.480740</td>\n",
       "    </tr>\n",
       "    <tr>\n",
       "      <th>5</th>\n",
       "      <td>4.873619</td>\n",
       "      <td>23.752161</td>\n",
       "      <td>3.231330</td>\n",
       "    </tr>\n",
       "    <tr>\n",
       "      <th>6</th>\n",
       "      <td>4.421787</td>\n",
       "      <td>19.552197</td>\n",
       "      <td>2.965804</td>\n",
       "    </tr>\n",
       "  </tbody>\n",
       "</table>\n",
       "</div>"
      ],
      "text/plain": [
       "       RMSE        MSE       MAE\n",
       "i                               \n",
       "1  5.152963  26.553030  4.493987\n",
       "2  3.501283  12.258981  2.219975\n",
       "3  2.966691   8.801254  1.787449\n",
       "4  3.263680  10.651605  2.480740\n",
       "5  4.873619  23.752161  3.231330\n",
       "6  4.421787  19.552197  2.965804"
      ]
     },
     "execution_count": 64,
     "metadata": {},
     "output_type": "execute_result"
    }
   ],
   "source": [
    "rm=rm.set_index('i')\n",
    "rm"
   ]
  },
  {
   "cell_type": "code",
   "execution_count": 66,
   "id": "3e1d90cf",
   "metadata": {},
   "outputs": [
    {
     "data": {
      "text/plain": [
       "Text(0.5, 0, 'Number of Neurons in the hidden layer')"
      ]
     },
     "execution_count": 66,
     "metadata": {},
     "output_type": "execute_result"
    },
    {
     "data": {
      "image/png": "[encoded data removed]",
      "text/plain": [
       "<Figure size 1200x500 with 1 Axes>"
      ]
     },
     "metadata": {},
     "output_type": "display_data"
    }
   ],
   "source": [
    "rm['RMSE'].plot(figsize=(12,5),legend=True)\n",
    "rm['MSE'].plot(legend=True)\n",
    "rm['MAE'].plot(legend=True)\n",
    "plt.title('gGRDP')\n",
    "plt.xlabel('Number of Neurons in the hidden layer')"
   ]
  },
  {
   "cell_type": "code",
   "execution_count": 67,
   "id": "3073f646",
   "metadata": {},
   "outputs": [
    {
     "name": "stderr",
     "output_type": "stream",
     "text": [
      "C:\\Users\\Windows\\AppData\\Local\\Programs\\Python\\Python311\\Lib\\site-packages\\sklearn\\neural_network\\_multilayer_perceptron.py:686: ConvergenceWarning: Stochastic Optimizer: Maximum iterations (1000) reached and the optimization hasn't converged yet.\n",
      "  warnings.warn(\n"
     ]
    }
   ],
   "source": [
    "regr = MLPRegressor(hidden_layer_sizes=(3,),random_state=12, max_iter=1000).fit(X_trainscaled, y_train)"
   ]
  },
  {
   "cell_type": "code",
   "execution_count": 68,
   "id": "f8671f5e",
   "metadata": {},
   "outputs": [],
   "source": [
    "network_structure = np.hstack(([X_trainscaled.shape[1]], np.asarray(regr.hidden_layer_sizes), [1]))"
   ]
  },
  {
   "cell_type": "code",
   "execution_count": 69,
   "id": "70d27f6b",
   "metadata": {},
   "outputs": [
    {
     "data": {
      "image/png": "[encoded data removed]",
      "text/plain": [
       "<Figure size 1200x900 with 1 Axes>"
      ]
     },
     "metadata": {},
     "output_type": "display_data"
    }
   ],
   "source": [
    "network=VisNN.DrawNN(network_structure, regr.coefs_)\n",
    "network.draw()"
   ]
  },
  {
   "cell_type": "code",
   "execution_count": 70,
   "id": "75c5777d",
   "metadata": {},
   "outputs": [
    {
     "data": {
      "text/plain": [
       "[array([[ 0.4071179 ,  1.03001031,  0.61642508],\n",
       "        [ 0.74724205, -1.11042903,  1.44335791],\n",
       "        [ 1.46541435, -0.85136418,  1.56695862],\n",
       "        [-0.01159553,  0.67604304,  0.87625902]]),\n",
       " array([[0.66670939],\n",
       "        [0.94991035],\n",
       "        [0.75791645]])]"
      ]
     },
     "execution_count": 70,
     "metadata": {},
     "output_type": "execute_result"
    }
   ],
   "source": [
    "regr.coefs_"
   ]
  },
  {
   "cell_type": "code",
   "execution_count": 71,
   "id": "56a4d252",
   "metadata": {},
   "outputs": [
    {
     "data": {
      "text/plain": [
       "array([1.1434876 , 8.18529675, 1.1434876 , 7.71622534, 3.68182537])"
      ]
     },
     "execution_count": 71,
     "metadata": {},
     "output_type": "execute_result"
    }
   ],
   "source": [
    "y_pred = regr.predict(X_testscaled)\n",
    "y_pred"
   ]
  },
  {
   "cell_type": "code",
   "execution_count": 72,
   "id": "0f46ec56",
   "metadata": {},
   "outputs": [
    {
     "data": {
      "text/html": [
       "<div>\n",
       "<style scoped>\n",
       "    .dataframe tbody tr th:only-of-type {\n",
       "        vertical-align: middle;\n",
       "    }\n",
       "\n",
       "    .dataframe tbody tr th {\n",
       "        vertical-align: top;\n",
       "    }\n",
       "\n",
       "    .dataframe thead th {\n",
       "        text-align: right;\n",
       "    }\n",
       "</style>\n",
       "<table border=\"1\" class=\"dataframe\">\n",
       "  <thead>\n",
       "    <tr style=\"text-align: right;\">\n",
       "      <th></th>\n",
       "      <th>Actual</th>\n",
       "      <th>Predicted</th>\n",
       "    </tr>\n",
       "    <tr>\n",
       "      <th>Quarter</th>\n",
       "      <th></th>\n",
       "      <th></th>\n",
       "    </tr>\n",
       "  </thead>\n",
       "  <tbody>\n",
       "    <tr>\n",
       "      <th>Q 1/2022</th>\n",
       "      <td>1.88</td>\n",
       "      <td>1.143488</td>\n",
       "    </tr>\n",
       "    <tr>\n",
       "      <th>Q 1/2019</th>\n",
       "      <td>7.64</td>\n",
       "      <td>8.185297</td>\n",
       "    </tr>\n",
       "    <tr>\n",
       "      <th>Q 4/2021</th>\n",
       "      <td>-5.36</td>\n",
       "      <td>1.143488</td>\n",
       "    </tr>\n",
       "    <tr>\n",
       "      <th>Q 3/2017</th>\n",
       "      <td>7.97</td>\n",
       "      <td>7.716225</td>\n",
       "    </tr>\n",
       "    <tr>\n",
       "      <th>Q 1/2021</th>\n",
       "      <td>4.58</td>\n",
       "      <td>3.681825</td>\n",
       "    </tr>\n",
       "  </tbody>\n",
       "</table>\n",
       "</div>"
      ],
      "text/plain": [
       "          Actual  Predicted\n",
       "Quarter                    \n",
       "Q 1/2022    1.88   1.143488\n",
       "Q 1/2019    7.64   8.185297\n",
       "Q 4/2021   -5.36   1.143488\n",
       "Q 3/2017    7.97   7.716225\n",
       "Q 1/2021    4.58   3.681825"
      ]
     },
     "execution_count": 72,
     "metadata": {},
     "output_type": "execute_result"
    }
   ],
   "source": [
    "df_temp = pd.DataFrame({'Actual': y_test, 'Predicted': y_pred})\n",
    "df_temp.head(7)"
   ]
  },
  {
   "cell_type": "code",
   "execution_count": 73,
   "id": "cd9d2b7c",
   "metadata": {},
   "outputs": [
    {
     "name": "stdout",
     "output_type": "stream",
     "text": [
      "Root Mean Squared Error: 2.966690724931431\n",
      "Mean Squared Error: 8.80125385739418\n",
      "Mean Absolute Error: 1.7874492063233618\n"
     ]
    }
   ],
   "source": [
    "print('Root Mean Squared Error:', np.sqrt(metrics.mean_squared_error(y_test, y_pred)))\n",
    "print('Mean Squared Error:', metrics.mean_squared_error(y_test, y_pred))  \n",
    "print('Mean Absolute Error:', metrics.mean_absolute_error(y_test, y_pred))  "
   ]
  },
  {
   "cell_type": "code",
   "execution_count": 76,
   "id": "d43015ad",
   "metadata": {},
   "outputs": [
    {
     "data": {
      "text/plain": [
       "array([6.52067138, 6.83072824, 3.80851088, 7.02462127, 6.59537153,\n",
       "       7.66663611, 6.07218526, 4.29937005, 3.11629213, 7.65276086,\n",
       "       3.17954098, 6.84597411, 2.6121859 , 2.46004245, 2.928253  ,\n",
       "       8.12010861, 7.89855718, 1.82546828, 7.33071776, 3.26559398])"
      ]
     },
     "execution_count": 76,
     "metadata": {},
     "output_type": "execute_result"
    }
   ],
   "source": [
    "y_pred_train = regr.predict(X_trainscaled)\n",
    "y_pred_train"
   ]
  },
  {
   "cell_type": "code",
   "execution_count": 77,
   "id": "77cba0c0",
   "metadata": {},
   "outputs": [
    {
     "name": "stdout",
     "output_type": "stream",
     "text": [
      "Root Mean Squared Error: 2.4267637569432416\n",
      "Mean Squared Error: 5.889182332013276\n",
      "Mean Absolute Error: 1.726902550645273\n"
     ]
    }
   ],
   "source": [
    "print('Root Mean Squared Error:', np.sqrt(metrics.mean_squared_error(y_train, y_pred_train)))\n",
    "print('Mean Squared Error:', metrics.mean_squared_error(y_train, y_pred_train))  \n",
    "print('Mean Absolute Error:', metrics.mean_absolute_error(y_train, y_pred_train))  "
   ]
  },
  {
   "cell_type": "code",
   "execution_count": 75,
   "id": "13802f64",
   "metadata": {},
   "outputs": [
    {
     "data": {
      "image/png": "[encoded data removed]",
      "text/plain": [
       "<Figure size 1000x600 with 1 Axes>"
      ]
     },
     "metadata": {},
     "output_type": "display_data"
    }
   ],
   "source": [
    "ax = df_temp.plot.bar(figsize=(10,6))\n",
    "for container in ax.containers:\n",
    "    ax.bar_label(container)\n",
    "plt.title('gGRDP')\n",
    "plt.show()"
   ]
  },
  {
   "cell_type": "code",
   "execution_count": 92,
   "id": "e756c3a4",
   "metadata": {},
   "outputs": [
    {
     "data": {
      "text/html": [
       "<div>\n",
       "<style scoped>\n",
       "    .dataframe tbody tr th:only-of-type {\n",
       "        vertical-align: middle;\n",
       "    }\n",
       "\n",
       "    .dataframe tbody tr th {\n",
       "        vertical-align: top;\n",
       "    }\n",
       "\n",
       "    .dataframe thead th {\n",
       "        text-align: right;\n",
       "    }\n",
       "</style>\n",
       "<table border=\"1\" class=\"dataframe\">\n",
       "  <thead>\n",
       "    <tr style=\"text-align: right;\">\n",
       "      <th></th>\n",
       "      <th>Quarter</th>\n",
       "      <th>gGRDP</th>\n",
       "      <th>gAFFS_lag1</th>\n",
       "      <th>gINCS_lag1</th>\n",
       "      <th>gPTX_lag1</th>\n",
       "      <th>gTRSS_lag1</th>\n",
       "    </tr>\n",
       "  </thead>\n",
       "  <tbody>\n",
       "    <tr>\n",
       "      <th>22</th>\n",
       "      <td>Q 4/2022</td>\n",
       "      <td>9.03</td>\n",
       "      <td>3.98</td>\n",
       "      <td>17.36</td>\n",
       "      <td>5.66</td>\n",
       "      <td>8.51</td>\n",
       "    </tr>\n",
       "    <tr>\n",
       "      <th>23</th>\n",
       "      <td>Q 1/2023</td>\n",
       "      <td>0.70</td>\n",
       "      <td>3.74</td>\n",
       "      <td>11.95</td>\n",
       "      <td>7.41</td>\n",
       "      <td>8.37</td>\n",
       "    </tr>\n",
       "    <tr>\n",
       "      <th>24</th>\n",
       "      <td>Q 2/2023</td>\n",
       "      <td>3.55</td>\n",
       "      <td>2.06</td>\n",
       "      <td>-3.60</td>\n",
       "      <td>1.14</td>\n",
       "      <td>2.07</td>\n",
       "    </tr>\n",
       "    <tr>\n",
       "      <th>25</th>\n",
       "      <td>Q3/2023</td>\n",
       "      <td>NaN</td>\n",
       "      <td>2.14</td>\n",
       "      <td>0.80</td>\n",
       "      <td>1.44</td>\n",
       "      <td>4.96</td>\n",
       "    </tr>\n",
       "    <tr>\n",
       "      <th>26</th>\n",
       "      <td>Q4/2023</td>\n",
       "      <td>NaN</td>\n",
       "      <td>2.25</td>\n",
       "      <td>1.15</td>\n",
       "      <td>2.46</td>\n",
       "      <td>5.96</td>\n",
       "    </tr>\n",
       "  </tbody>\n",
       "</table>\n",
       "</div>"
      ],
      "text/plain": [
       "     Quarter  gGRDP  gAFFS_lag1  gINCS_lag1  gPTX_lag1  gTRSS_lag1\n",
       "22  Q 4/2022   9.03        3.98       17.36       5.66        8.51\n",
       "23  Q 1/2023   0.70        3.74       11.95       7.41        8.37\n",
       "24  Q 2/2023   3.55        2.06       -3.60       1.14        2.07\n",
       "25   Q3/2023    NaN        2.14        0.80       1.44        4.96\n",
       "26   Q4/2023    NaN        2.25        1.15       2.46        5.96"
      ]
     },
     "execution_count": 92,
     "metadata": {},
     "output_type": "execute_result"
    }
   ],
   "source": [
    "df_new=pd.read_excel('data_f.xlsx')\n",
    "df_new.tail()"
   ]
  },
  {
   "cell_type": "code",
   "execution_count": 93,
   "id": "e1bfb139",
   "metadata": {},
   "outputs": [
    {
     "data": {
      "text/plain": [
       "Index(['Quarter', 'gGRDP', 'gAFFS_lag1', 'gINCS_lag1', 'gPTX_lag1',\n",
       "       'gTRSS_lag1'],\n",
       "      dtype='object')"
      ]
     },
     "execution_count": 93,
     "metadata": {},
     "output_type": "execute_result"
    }
   ],
   "source": [
    "df_new.columns"
   ]
  },
  {
   "cell_type": "code",
   "execution_count": 95,
   "id": "2527f556",
   "metadata": {},
   "outputs": [],
   "source": [
    "X_new=df_new[['gAFFS_lag1', 'gINCS_lag1', 'gPTX_lag1',\n",
    "       'gTRSS_lag1']]\n",
    "X_new=sc_X.fit_transform(X_new)"
   ]
  },
  {
   "cell_type": "code",
   "execution_count": 96,
   "id": "88aa8c10",
   "metadata": {},
   "outputs": [],
   "source": [
    "df_new['gGRDP_forecast']=regr.predict(X_new)"
   ]
  },
  {
   "cell_type": "code",
   "execution_count": 97,
   "id": "e13a6155",
   "metadata": {},
   "outputs": [
    {
     "data": {
      "text/html": [
       "<div>\n",
       "<style scoped>\n",
       "    .dataframe tbody tr th:only-of-type {\n",
       "        vertical-align: middle;\n",
       "    }\n",
       "\n",
       "    .dataframe tbody tr th {\n",
       "        vertical-align: top;\n",
       "    }\n",
       "\n",
       "    .dataframe thead th {\n",
       "        text-align: right;\n",
       "    }\n",
       "</style>\n",
       "<table border=\"1\" class=\"dataframe\">\n",
       "  <thead>\n",
       "    <tr style=\"text-align: right;\">\n",
       "      <th></th>\n",
       "      <th>Quarter</th>\n",
       "      <th>gGRDP</th>\n",
       "      <th>gAFFS_lag1</th>\n",
       "      <th>gINCS_lag1</th>\n",
       "      <th>gPTX_lag1</th>\n",
       "      <th>gTRSS_lag1</th>\n",
       "      <th>gGRDP_forecast</th>\n",
       "    </tr>\n",
       "  </thead>\n",
       "  <tbody>\n",
       "    <tr>\n",
       "      <th>22</th>\n",
       "      <td>Q 4/2022</td>\n",
       "      <td>9.03</td>\n",
       "      <td>3.98</td>\n",
       "      <td>17.36</td>\n",
       "      <td>5.66</td>\n",
       "      <td>8.51</td>\n",
       "      <td>7.420395</td>\n",
       "    </tr>\n",
       "    <tr>\n",
       "      <th>23</th>\n",
       "      <td>Q 1/2023</td>\n",
       "      <td>0.70</td>\n",
       "      <td>3.74</td>\n",
       "      <td>11.95</td>\n",
       "      <td>7.41</td>\n",
       "      <td>8.37</td>\n",
       "      <td>6.740657</td>\n",
       "    </tr>\n",
       "    <tr>\n",
       "      <th>24</th>\n",
       "      <td>Q 2/2023</td>\n",
       "      <td>3.55</td>\n",
       "      <td>2.06</td>\n",
       "      <td>-3.60</td>\n",
       "      <td>1.14</td>\n",
       "      <td>2.07</td>\n",
       "      <td>4.526799</td>\n",
       "    </tr>\n",
       "    <tr>\n",
       "      <th>25</th>\n",
       "      <td>Q3/2023</td>\n",
       "      <td>NaN</td>\n",
       "      <td>2.14</td>\n",
       "      <td>0.80</td>\n",
       "      <td>1.44</td>\n",
       "      <td>4.96</td>\n",
       "      <td>4.054328</td>\n",
       "    </tr>\n",
       "    <tr>\n",
       "      <th>26</th>\n",
       "      <td>Q4/2023</td>\n",
       "      <td>NaN</td>\n",
       "      <td>2.25</td>\n",
       "      <td>1.15</td>\n",
       "      <td>2.46</td>\n",
       "      <td>5.96</td>\n",
       "      <td>3.960256</td>\n",
       "    </tr>\n",
       "  </tbody>\n",
       "</table>\n",
       "</div>"
      ],
      "text/plain": [
       "     Quarter  gGRDP  gAFFS_lag1  gINCS_lag1  gPTX_lag1  gTRSS_lag1  \\\n",
       "22  Q 4/2022   9.03        3.98       17.36       5.66        8.51   \n",
       "23  Q 1/2023   0.70        3.74       11.95       7.41        8.37   \n",
       "24  Q 2/2023   3.55        2.06       -3.60       1.14        2.07   \n",
       "25   Q3/2023    NaN        2.14        0.80       1.44        4.96   \n",
       "26   Q4/2023    NaN        2.25        1.15       2.46        5.96   \n",
       "\n",
       "    gGRDP_forecast  \n",
       "22        7.420395  \n",
       "23        6.740657  \n",
       "24        4.526799  \n",
       "25        4.054328  \n",
       "26        3.960256  "
      ]
     },
     "execution_count": 97,
     "metadata": {},
     "output_type": "execute_result"
    }
   ],
   "source": [
    "df_new.tail()"
   ]
  },
  {
   "cell_type": "code",
   "execution_count": 98,
   "id": "a849eb2d",
   "metadata": {},
   "outputs": [],
   "source": [
    "df_new.to_excel('data_f1.xlsx')"
   ]
  },
  {
   "cell_type": "code",
   "execution_count": 100,
   "id": "07d50b7c",
   "metadata": {},
   "outputs": [],
   "source": [
    "variance_gGRDP_forecast = df_new['gGRDP_forecast'].var()"
   ]
  },
  {
   "cell_type": "code",
   "execution_count": 104,
   "id": "45246744",
   "metadata": {},
   "outputs": [
    {
     "data": {
      "text/plain": [
       "5.03209135762252"
      ]
     },
     "execution_count": 104,
     "metadata": {},
     "output_type": "execute_result"
    }
   ],
   "source": [
    "variance_gGRDP_forecast"
   ]
  },
  {
   "cell_type": "code",
   "execution_count": 102,
   "id": "6371da6c",
   "metadata": {},
   "outputs": [
    {
     "name": "stdout",
     "output_type": "stream",
     "text": [
      "3.1706529204132723 4.929347079586727\n"
     ]
    }
   ],
   "source": [
    "import math\n",
    "\n",
    "mean = 4.05  \n",
    "variance = variance_gGRDP_forecast \n",
    "n = 25 \n",
    "z = 1.96  \n",
    "margin_of_error = z * math.sqrt(variance / n)\n",
    "\n",
    "lower_bound = mean - margin_of_error\n",
    "upper_bound = mean + margin_of_error\n",
    "print(lower_bound,upper_bound)"
   ]
  },
  {
   "cell_type": "code",
   "execution_count": 103,
   "id": "4e359f4c",
   "metadata": {},
   "outputs": [
    {
     "name": "stdout",
     "output_type": "stream",
     "text": [
      "3.0806529204132724 4.8393470795867275\n"
     ]
    }
   ],
   "source": [
    "mean = 3.96  \n",
    "variance = variance_gGRDP_forecast \n",
    "n = 25 \n",
    "z = 1.96  \n",
    "margin_of_error = z * math.sqrt(variance / n)\n",
    "\n",
    "lower_bound1 = mean - margin_of_error\n",
    "upper_bound1 = mean + margin_of_error\n",
    "print(lower_bound1,upper_bound1)"
   ]
  },
  {
   "cell_type": "code",
   "execution_count": null,
   "id": "96398c94",
   "metadata": {},
   "outputs": [],
   "source": []
  }
 ],
 "metadata": {
  "kernelspec": {
   "display_name": "Python 3 (ipykernel)",
   "language": "python",
   "name": "python3"
  },
  "language_info": {
   "codemirror_mode": {
    "name": "ipython",
    "version": 3
   },
   "file_extension": ".py",
   "mimetype": "text/x-python",
   "name": "python",
   "nbconvert_exporter": "python",
   "pygments_lexer": "ipython3",
   "version": "3.11.3"
  }
 },
 "nbformat": 4,
 "nbformat_minor": 5
}
